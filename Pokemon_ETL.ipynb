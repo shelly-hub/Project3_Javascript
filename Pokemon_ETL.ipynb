{
 "cells": [
  {
   "attachments": {},
   "cell_type": "markdown",
   "metadata": {},
   "source": [
    "# PokePy"
   ]
  },
  {
   "cell_type": "code",
   "execution_count": 1,
   "metadata": {
    "scrolled": true
   },
   "outputs": [],
   "source": [
    "# Dependencies and Setup\n",
    "\n",
    "import pandas as pd\n",
    "import numpy as np\n",
    "import requests\n",
    "from pprint import pprint"
   ]
  },
  {
   "cell_type": "code",
   "execution_count": 2,
   "metadata": {},
   "outputs": [],
   "source": [
    "# Set the API base URL\n",
    "baseurl = \"https://pokeapi.co/api/v2/pokemon/\"\n",
    "poke_requests = requests.get(baseurl).json()\n",
    "# pprint(poke_requests)"
   ]
  },
  {
   "cell_type": "code",
   "execution_count": 3,
   "metadata": {},
   "outputs": [
    {
     "name": "stdout",
     "output_type": "stream",
     "text": [
      "1281\n"
     ]
    }
   ],
   "source": [
    "# Set API limits\n",
    "url = \"https://pokeapi.co/api/v2/pokemon/?offset=0&limit=10000\"\n",
    "response = requests.get(url).json()\n",
    "# pprint(response)\n",
    "\n",
    "# Define an empty list to fetch the poke data \n",
    "poke_name = []\n",
    "\n",
    "poke_results = response[\"results\"]\n",
    "# pprint(poke_results)\n",
    "\n",
    "for i in poke_results:\n",
    "    name = i[\"name\"]\n",
    "    poke_name.append(name)\n",
    "# print(poke_name)\n",
    "print(len(poke_name))"
   ]
  },
  {
   "cell_type": "code",
   "execution_count": 4,
   "metadata": {},
   "outputs": [],
   "source": [
    "# Extract data for metadata\n",
    "poke_ids = []\n",
    "poke_type_1 = []\n",
    "poke_type_2 = []\n",
    "poke_weight = []\n",
    "\n",
    "for j in poke_name:\n",
    "    url = baseurl + j\n",
    "    data_requests = requests.get(url).json()\n",
    "#     pprint(data_requests)\n",
    "    \n",
    "    poke_id = data_requests[\"id\"]\n",
    "    poke_ids.append(poke_id)\n",
    "    \n",
    "    for l in data_requests[\"types\"]:\n",
    "        if l[\"slot\"] == 1:\n",
    "            type_1 = l[\"type\"][\"name\"]\n",
    "            poke_type_1.append(type_1)\n",
    "        if l[\"slot\"] == 2:\n",
    "            type_2 = l[\"type\"][\"name\"]\n",
    "        else:\n",
    "            type_2 = \"NaN\"\n",
    "        continue\n",
    "    poke_type_2.append(type_2)\n",
    "    \n",
    "    weight = data_requests[\"weight\"]\n",
    "    poke_weight.append(weight)"
   ]
  },
  {
   "cell_type": "code",
   "execution_count": 43,
   "metadata": {},
   "outputs": [
    {
     "data": {
      "text/html": [
       "<div>\n",
       "<style scoped>\n",
       "    .dataframe tbody tr th:only-of-type {\n",
       "        vertical-align: middle;\n",
       "    }\n",
       "\n",
       "    .dataframe tbody tr th {\n",
       "        vertical-align: top;\n",
       "    }\n",
       "\n",
       "    .dataframe thead th {\n",
       "        text-align: right;\n",
       "    }\n",
       "</style>\n",
       "<table border=\"1\" class=\"dataframe\">\n",
       "  <thead>\n",
       "    <tr style=\"text-align: right;\">\n",
       "      <th></th>\n",
       "      <th>name</th>\n",
       "      <th>order_id</th>\n",
       "      <th>weight</th>\n",
       "      <th>type_1</th>\n",
       "      <th>type_2</th>\n",
       "    </tr>\n",
       "  </thead>\n",
       "  <tbody>\n",
       "    <tr>\n",
       "      <th>0</th>\n",
       "      <td>bulbasaur</td>\n",
       "      <td>1</td>\n",
       "      <td>69</td>\n",
       "      <td>grass</td>\n",
       "      <td>poison</td>\n",
       "    </tr>\n",
       "    <tr>\n",
       "      <th>1</th>\n",
       "      <td>ivysaur</td>\n",
       "      <td>2</td>\n",
       "      <td>130</td>\n",
       "      <td>grass</td>\n",
       "      <td>poison</td>\n",
       "    </tr>\n",
       "    <tr>\n",
       "      <th>2</th>\n",
       "      <td>venusaur</td>\n",
       "      <td>3</td>\n",
       "      <td>1000</td>\n",
       "      <td>grass</td>\n",
       "      <td>poison</td>\n",
       "    </tr>\n",
       "    <tr>\n",
       "      <th>3</th>\n",
       "      <td>charmander</td>\n",
       "      <td>4</td>\n",
       "      <td>85</td>\n",
       "      <td>fire</td>\n",
       "      <td>NaN</td>\n",
       "    </tr>\n",
       "    <tr>\n",
       "      <th>4</th>\n",
       "      <td>charmeleon</td>\n",
       "      <td>5</td>\n",
       "      <td>190</td>\n",
       "      <td>fire</td>\n",
       "      <td>NaN</td>\n",
       "    </tr>\n",
       "  </tbody>\n",
       "</table>\n",
       "</div>"
      ],
      "text/plain": [
       "         name  order_id  weight type_1  type_2\n",
       "0   bulbasaur         1      69  grass  poison\n",
       "1     ivysaur         2     130  grass  poison\n",
       "2    venusaur         3    1000  grass  poison\n",
       "3  charmander         4      85   fire     NaN\n",
       "4  charmeleon         5     190   fire     NaN"
      ]
     },
     "execution_count": 43,
     "metadata": {},
     "output_type": "execute_result"
    }
   ],
   "source": [
    "metadata_df = pd.DataFrame({\n",
    "    \"name\": poke_name,\n",
    "    \"order_id\": poke_ids,\n",
    "    \"weight\": poke_weight,\n",
    "    \"type_1\": poke_type_1,\n",
    "    \"type_2\": poke_type_2})\n",
    "\n",
    "metadata_df.head()"
   ]
  },
  {
   "cell_type": "code",
   "execution_count": 6,
   "metadata": {},
   "outputs": [
    {
     "name": "stdout",
     "output_type": "stream",
     "text": [
      "<class 'pandas.core.frame.DataFrame'>\n",
      "RangeIndex: 1281 entries, 0 to 1280\n",
      "Data columns (total 5 columns):\n",
      " #   Column    Non-Null Count  Dtype \n",
      "---  ------    --------------  ----- \n",
      " 0   name      1281 non-null   object\n",
      " 1   order_id  1281 non-null   int64 \n",
      " 2   weight    1281 non-null   int64 \n",
      " 3   type_1    1281 non-null   object\n",
      " 4   type_2    1281 non-null   object\n",
      "dtypes: int64(2), object(3)\n",
      "memory usage: 50.2+ KB\n"
     ]
    }
   ],
   "source": [
    "metadata_df.info()"
   ]
  },
  {
   "cell_type": "code",
   "execution_count": 7,
   "metadata": {},
   "outputs": [],
   "source": [
    "# Export the Pokemon data into a csv\n",
    "metadata_df.to_csv(\"Resources/metadata.csv\", index= False)"
   ]
  },
  {
   "cell_type": "code",
   "execution_count": 8,
   "metadata": {},
   "outputs": [],
   "source": [
    "# Extract data for statistics\n",
    "hp = []\n",
    "attack = []\n",
    "defense = []\n",
    "sp_attack = []\n",
    "sp_defense = []\n",
    "speed = []\n",
    "\n",
    "for j in poke_name:\n",
    "    url = baseurl + j\n",
    "    data_requests = requests.get(url).json()\n",
    "    \n",
    "    for p in data_requests[\"stats\"]:\n",
    "        if p[\"stat\"][\"name\"] == \"hp\":\n",
    "            value = p[\"base_stat\"]\n",
    "            hp.append(value)\n",
    "        if p[\"stat\"][\"name\"] == \"attack\":\n",
    "            value = p[\"base_stat\"]\n",
    "            attack.append(value)\n",
    "        if p[\"stat\"][\"name\"] == \"defense\":\n",
    "            value = p[\"base_stat\"]\n",
    "            defense.append(value)\n",
    "        if p[\"stat\"][\"name\"] == \"special-attack\":\n",
    "            value = p[\"base_stat\"]\n",
    "            sp_attack.append(value)\n",
    "        if p[\"stat\"][\"name\"] == \"special-defense\":\n",
    "            value = p[\"base_stat\"]\n",
    "            sp_defense.append(value)\n",
    "        if p[\"stat\"][\"name\"] == \"speed\":\n",
    "            value = p[\"base_stat\"]\n",
    "            speed.append(value)\n"
   ]
  },
  {
   "cell_type": "code",
   "execution_count": 9,
   "metadata": {},
   "outputs": [
    {
     "data": {
      "text/html": [
       "<div>\n",
       "<style scoped>\n",
       "    .dataframe tbody tr th:only-of-type {\n",
       "        vertical-align: middle;\n",
       "    }\n",
       "\n",
       "    .dataframe tbody tr th {\n",
       "        vertical-align: top;\n",
       "    }\n",
       "\n",
       "    .dataframe thead th {\n",
       "        text-align: right;\n",
       "    }\n",
       "</style>\n",
       "<table border=\"1\" class=\"dataframe\">\n",
       "  <thead>\n",
       "    <tr style=\"text-align: right;\">\n",
       "      <th></th>\n",
       "      <th>name</th>\n",
       "      <th>order_id</th>\n",
       "      <th>hp</th>\n",
       "      <th>attack</th>\n",
       "      <th>defense</th>\n",
       "      <th>special_attack</th>\n",
       "      <th>special_defense</th>\n",
       "      <th>speed</th>\n",
       "    </tr>\n",
       "  </thead>\n",
       "  <tbody>\n",
       "    <tr>\n",
       "      <th>0</th>\n",
       "      <td>bulbasaur</td>\n",
       "      <td>1</td>\n",
       "      <td>45</td>\n",
       "      <td>49</td>\n",
       "      <td>49</td>\n",
       "      <td>65</td>\n",
       "      <td>65</td>\n",
       "      <td>45</td>\n",
       "    </tr>\n",
       "    <tr>\n",
       "      <th>1</th>\n",
       "      <td>ivysaur</td>\n",
       "      <td>2</td>\n",
       "      <td>60</td>\n",
       "      <td>62</td>\n",
       "      <td>63</td>\n",
       "      <td>80</td>\n",
       "      <td>80</td>\n",
       "      <td>60</td>\n",
       "    </tr>\n",
       "    <tr>\n",
       "      <th>2</th>\n",
       "      <td>venusaur</td>\n",
       "      <td>3</td>\n",
       "      <td>80</td>\n",
       "      <td>82</td>\n",
       "      <td>83</td>\n",
       "      <td>100</td>\n",
       "      <td>100</td>\n",
       "      <td>80</td>\n",
       "    </tr>\n",
       "    <tr>\n",
       "      <th>3</th>\n",
       "      <td>charmander</td>\n",
       "      <td>4</td>\n",
       "      <td>39</td>\n",
       "      <td>52</td>\n",
       "      <td>43</td>\n",
       "      <td>60</td>\n",
       "      <td>50</td>\n",
       "      <td>65</td>\n",
       "    </tr>\n",
       "    <tr>\n",
       "      <th>4</th>\n",
       "      <td>charmeleon</td>\n",
       "      <td>5</td>\n",
       "      <td>58</td>\n",
       "      <td>64</td>\n",
       "      <td>58</td>\n",
       "      <td>80</td>\n",
       "      <td>65</td>\n",
       "      <td>80</td>\n",
       "    </tr>\n",
       "  </tbody>\n",
       "</table>\n",
       "</div>"
      ],
      "text/plain": [
       "         name  order_id  hp  attack  defense  special_attack  special_defense  \\\n",
       "0   bulbasaur         1  45      49       49              65               65   \n",
       "1     ivysaur         2  60      62       63              80               80   \n",
       "2    venusaur         3  80      82       83             100              100   \n",
       "3  charmander         4  39      52       43              60               50   \n",
       "4  charmeleon         5  58      64       58              80               65   \n",
       "\n",
       "   speed  \n",
       "0     45  \n",
       "1     60  \n",
       "2     80  \n",
       "3     65  \n",
       "4     80  "
      ]
     },
     "execution_count": 9,
     "metadata": {},
     "output_type": "execute_result"
    }
   ],
   "source": [
    "statistics_df = pd.DataFrame({\n",
    "    \"name\": poke_name,\n",
    "    \"order_id\": poke_ids,\n",
    "    \"hp\" : hp,\n",
    "    \"attack\" : attack,\n",
    "    \"defense\": defense, \n",
    "    \"special_attack\": sp_attack,\n",
    "    \"special_defense\": sp_defense,\n",
    "    \"speed\": speed})\n",
    "\n",
    "statistics_df.head()"
   ]
  },
  {
   "cell_type": "code",
   "execution_count": 10,
   "metadata": {},
   "outputs": [
    {
     "name": "stdout",
     "output_type": "stream",
     "text": [
      "<class 'pandas.core.frame.DataFrame'>\n",
      "RangeIndex: 1281 entries, 0 to 1280\n",
      "Data columns (total 8 columns):\n",
      " #   Column           Non-Null Count  Dtype \n",
      "---  ------           --------------  ----- \n",
      " 0   name             1281 non-null   object\n",
      " 1   order_id         1281 non-null   int64 \n",
      " 2   hp               1281 non-null   int64 \n",
      " 3   attack           1281 non-null   int64 \n",
      " 4   defense          1281 non-null   int64 \n",
      " 5   special_attack   1281 non-null   int64 \n",
      " 6   special_defense  1281 non-null   int64 \n",
      " 7   speed            1281 non-null   int64 \n",
      "dtypes: int64(7), object(1)\n",
      "memory usage: 80.2+ KB\n"
     ]
    }
   ],
   "source": [
    "statistics_df.info()"
   ]
  },
  {
   "cell_type": "code",
   "execution_count": 11,
   "metadata": {},
   "outputs": [],
   "source": [
    "# Export the Pokemon Data into a csv\n",
    "statistics_df.to_csv(\"Resources/statistics.csv\", index= False)"
   ]
  },
  {
   "cell_type": "code",
   "execution_count": 12,
   "metadata": {},
   "outputs": [],
   "source": [
    "# Extract data for pictures\n",
    "pics_default = []\n",
    "pics_shiny = []\n",
    "\n",
    "for j in poke_name:\n",
    "    url = baseurl + j\n",
    "    data_requests = requests.get(url).json()\n",
    "    \n",
    "    pic_default = data_requests[\"sprites\"][\"other\"][\"official-artwork\"][\"front_default\"]\n",
    "    pics_default.append(pic_default)\n",
    "    \n",
    "    pic_shiny = data_requests[\"sprites\"][\"other\"][\"official-artwork\"][\"front_shiny\"]\n",
    "    pics_shiny.append(pic_shiny)"
   ]
  },
  {
   "cell_type": "code",
   "execution_count": 13,
   "metadata": {},
   "outputs": [
    {
     "data": {
      "text/html": [
       "<div>\n",
       "<style scoped>\n",
       "    .dataframe tbody tr th:only-of-type {\n",
       "        vertical-align: middle;\n",
       "    }\n",
       "\n",
       "    .dataframe tbody tr th {\n",
       "        vertical-align: top;\n",
       "    }\n",
       "\n",
       "    .dataframe thead th {\n",
       "        text-align: right;\n",
       "    }\n",
       "</style>\n",
       "<table border=\"1\" class=\"dataframe\">\n",
       "  <thead>\n",
       "    <tr style=\"text-align: right;\">\n",
       "      <th></th>\n",
       "      <th>name</th>\n",
       "      <th>order_id</th>\n",
       "      <th>sprites_default</th>\n",
       "      <th>sprites_shiny</th>\n",
       "    </tr>\n",
       "  </thead>\n",
       "  <tbody>\n",
       "    <tr>\n",
       "      <th>0</th>\n",
       "      <td>bulbasaur</td>\n",
       "      <td>1</td>\n",
       "      <td>https://raw.githubusercontent.com/PokeAPI/spri...</td>\n",
       "      <td>https://raw.githubusercontent.com/PokeAPI/spri...</td>\n",
       "    </tr>\n",
       "    <tr>\n",
       "      <th>1</th>\n",
       "      <td>ivysaur</td>\n",
       "      <td>2</td>\n",
       "      <td>https://raw.githubusercontent.com/PokeAPI/spri...</td>\n",
       "      <td>https://raw.githubusercontent.com/PokeAPI/spri...</td>\n",
       "    </tr>\n",
       "    <tr>\n",
       "      <th>2</th>\n",
       "      <td>venusaur</td>\n",
       "      <td>3</td>\n",
       "      <td>https://raw.githubusercontent.com/PokeAPI/spri...</td>\n",
       "      <td>https://raw.githubusercontent.com/PokeAPI/spri...</td>\n",
       "    </tr>\n",
       "    <tr>\n",
       "      <th>3</th>\n",
       "      <td>charmander</td>\n",
       "      <td>4</td>\n",
       "      <td>https://raw.githubusercontent.com/PokeAPI/spri...</td>\n",
       "      <td>https://raw.githubusercontent.com/PokeAPI/spri...</td>\n",
       "    </tr>\n",
       "    <tr>\n",
       "      <th>4</th>\n",
       "      <td>charmeleon</td>\n",
       "      <td>5</td>\n",
       "      <td>https://raw.githubusercontent.com/PokeAPI/spri...</td>\n",
       "      <td>https://raw.githubusercontent.com/PokeAPI/spri...</td>\n",
       "    </tr>\n",
       "  </tbody>\n",
       "</table>\n",
       "</div>"
      ],
      "text/plain": [
       "         name  order_id                                    sprites_default  \\\n",
       "0   bulbasaur         1  https://raw.githubusercontent.com/PokeAPI/spri...   \n",
       "1     ivysaur         2  https://raw.githubusercontent.com/PokeAPI/spri...   \n",
       "2    venusaur         3  https://raw.githubusercontent.com/PokeAPI/spri...   \n",
       "3  charmander         4  https://raw.githubusercontent.com/PokeAPI/spri...   \n",
       "4  charmeleon         5  https://raw.githubusercontent.com/PokeAPI/spri...   \n",
       "\n",
       "                                       sprites_shiny  \n",
       "0  https://raw.githubusercontent.com/PokeAPI/spri...  \n",
       "1  https://raw.githubusercontent.com/PokeAPI/spri...  \n",
       "2  https://raw.githubusercontent.com/PokeAPI/spri...  \n",
       "3  https://raw.githubusercontent.com/PokeAPI/spri...  \n",
       "4  https://raw.githubusercontent.com/PokeAPI/spri...  "
      ]
     },
     "execution_count": 13,
     "metadata": {},
     "output_type": "execute_result"
    }
   ],
   "source": [
    "sprites_df = pd.DataFrame({\n",
    "        \"name\": poke_name,\n",
    "        \"order_id\": poke_ids,\n",
    "        \"sprites_default\": pics_default,\n",
    "        \"sprites_shiny\": pics_shiny})\n",
    "sprites_df.head()"
   ]
  },
  {
   "cell_type": "code",
   "execution_count": 14,
   "metadata": {},
   "outputs": [
    {
     "name": "stdout",
     "output_type": "stream",
     "text": [
      "<class 'pandas.core.frame.DataFrame'>\n",
      "RangeIndex: 1281 entries, 0 to 1280\n",
      "Data columns (total 4 columns):\n",
      " #   Column           Non-Null Count  Dtype \n",
      "---  ------           --------------  ----- \n",
      " 0   name             1281 non-null   object\n",
      " 1   order_id         1281 non-null   int64 \n",
      " 2   sprites_default  1271 non-null   object\n",
      " 3   sprites_shiny    1259 non-null   object\n",
      "dtypes: int64(1), object(3)\n",
      "memory usage: 40.2+ KB\n"
     ]
    }
   ],
   "source": [
    "sprites_df.info()"
   ]
  },
  {
   "cell_type": "code",
   "execution_count": 41,
   "metadata": {},
   "outputs": [
    {
     "name": "stdout",
     "output_type": "stream",
     "text": [
      "<class 'pandas.core.frame.DataFrame'>\n",
      "RangeIndex: 1281 entries, 0 to 1280\n",
      "Data columns (total 4 columns):\n",
      " #   Column           Non-Null Count  Dtype \n",
      "---  ------           --------------  ----- \n",
      " 0   name             1281 non-null   object\n",
      " 1   order_id         1281 non-null   int64 \n",
      " 2   sprites_default  1273 non-null   object\n",
      " 3   sprites_shiny    1259 non-null   object\n",
      "dtypes: int64(1), object(3)\n",
      "memory usage: 40.2+ KB\n"
     ]
    }
   ],
   "source": [
    "sprites_null = sprites_df.loc[sprites_df['sprites_default'].isnull(), :]\n",
    "\n",
    "for i in range(0, len(sprites_df)):\n",
    "    if (sprites_df.iloc[i, 2] == None):\n",
    "        sample_name = sprites_df.iloc[i, 0]\n",
    "\n",
    "        url = baseurl + sample_name\n",
    "        data_requests = requests.get(url).json()\n",
    "\n",
    "        front_default = data_requests[\"sprites\"][\"front_default\"]\n",
    "        sprites_df.iloc[i, 2] = front_default\n",
    "\n",
    "sprites_df.info()"
   ]
  },
  {
   "cell_type": "code",
   "execution_count": 44,
   "metadata": {},
   "outputs": [],
   "source": [
    "# Export the Pokemon Data into a csv\n",
    "sprites_df.to_csv(\"Resources/sprites.csv\", index= False)"
   ]
  }
 ],
 "metadata": {
  "anaconda-cloud": {},
  "kernel_info": {
   "name": "python3"
  },
  "kernelspec": {
   "display_name": "Python 3 (ipykernel)",
   "language": "python",
   "name": "python3"
  },
  "language_info": {
   "codemirror_mode": {
    "name": "ipython",
    "version": 3
   },
   "file_extension": ".py",
   "mimetype": "text/x-python",
   "name": "python",
   "nbconvert_exporter": "python",
   "pygments_lexer": "ipython3",
   "version": "3.9.13"
  },
  "latex_envs": {
   "LaTeX_envs_menu_present": true,
   "autoclose": false,
   "autocomplete": true,
   "bibliofile": "biblio.bib",
   "cite_by": "apalike",
   "current_citInitial": 1,
   "eqLabelWithNumbers": true,
   "eqNumInitial": 1,
   "hotkeys": {
    "equation": "Ctrl-E",
    "itemize": "Ctrl-I"
   },
   "labels_anchors": false,
   "latex_user_defs": false,
   "report_style_numbering": false,
   "user_envs_cfg": false
  },
  "nteract": {
   "version": "0.12.3"
  }
 },
 "nbformat": 4,
 "nbformat_minor": 4
}
